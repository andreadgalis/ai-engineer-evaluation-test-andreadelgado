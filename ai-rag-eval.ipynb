{
 "cells": [
  {
   "cell_type": "markdown",
   "id": "3b30350e",
   "metadata": {},
   "source": [
    "# AI Engineer Evaluation — Minimal Notebook"
   ]
  },
  {
   "cell_type": "markdown",
   "id": "542ba911",
   "metadata": {},
   "source": [
    "This notebook reproduces each exercise. Execute all cells locally to capture outputs before submission."
   ]
  },
  {
   "cell_type": "markdown",
   "id": "afe8c576",
   "metadata": {},
   "source": [
    "## Init"
   ]
  },
  {
   "cell_type": "code",
   "execution_count": 1,
   "id": "098bed4d",
   "metadata": {},
   "outputs": [
    {
     "name": "stdout",
     "output_type": "stream",
     "text": [
      "Client ready, base_url: https://llmproxy.ai.orange\n"
     ]
    }
   ],
   "source": [
    "# %pip install -q -e .\n",
    "import os\n",
    "from dotenv import load_dotenv\n",
    "from openai import OpenAI\n",
    "\n",
    "load_dotenv()\n",
    "api_key = os.getenv(\"LITELLM_KEY\")\n",
    "base_url = os.getenv(\"BASE_URL\", \"https://llmproxy.ai.orange\")\n",
    "assert api_key, \"Set LITELLM_KEY in your .env\"\n",
    "client = OpenAI(api_key=api_key, base_url=base_url)\n",
    "print(\"Client ready, base_url:\", base_url)"
   ]
  },
  {
   "cell_type": "markdown",
   "id": "9fac28d4",
   "metadata": {},
   "source": [
    "## Exercise 1 — LLM connection"
   ]
  },
  {
   "cell_type": "code",
   "execution_count": 2,
   "id": "246dc7f6",
   "metadata": {},
   "outputs": [
    {
     "name": "stdout",
     "output_type": "stream",
     "text": [
      "2\n"
     ]
    }
   ],
   "source": [
    "prompt = \"¿Cuántas 'a' tiene la palabra MasOrange? Responde solo con un número.\"\n",
    "resp = client.chat.completions.create(\n",
    "    model=\"openai/gpt-4o-mini\",\n",
    "    messages=[{\"role\":\"user\",\"content\":prompt}],\n",
    "    temperature=0\n",
    ")\n",
    "print(resp.choices[0].message.content.strip())"
   ]
  },
  {
   "cell_type": "markdown",
   "id": "6c495b08",
   "metadata": {},
   "source": [
    "## Exercise 2 — Simple embedding"
   ]
  },
  {
   "cell_type": "code",
   "execution_count": 3,
   "id": "9b764fb8",
   "metadata": {},
   "outputs": [
    {
     "name": "stdout",
     "output_type": "stream",
     "text": [
      "Embedding length: 1536\n"
     ]
    },
    {
     "data": {
      "text/plain": [
       "[0.060176700353622437,\n",
       " 0.03872217237949371,\n",
       " 0.001016652095131576,\n",
       " 0.013106766156852245,\n",
       " -0.05762816220521927,\n",
       " 0.0009825198212638497,\n",
       " 0.008646824397146702,\n",
       " -0.04896833375096321]"
      ]
     },
     "execution_count": 3,
     "metadata": {},
     "output_type": "execute_result"
    }
   ],
   "source": [
    "text = \"You shall not pass!\"\n",
    "emb = client.embeddings.create(model=\"openai/text-embedding-3-small\", input=text).data[0].embedding\n",
    "print(\"Embedding length:\", len(emb))\n",
    "emb[:8]"
   ]
  },
  {
   "cell_type": "markdown",
   "id": "42b6a061",
   "metadata": {},
   "source": [
    "## Exercises 2.2–3 — Mini Vector DB"
   ]
  },
  {
   "cell_type": "code",
   "execution_count": 4,
   "id": "681700c6",
   "metadata": {},
   "outputs": [
    {
     "name": "stdout",
     "output_type": "stream",
     "text": [
      "Num embeddings: 10\n",
      "Top chunk for query:\n",
      "## **Ejercicio 3: Dándole funcionalidad**\n",
      "Añade el siguiente método a tu clase:\n",
      "```python\n",
      "    def _nearest_chunks(self, embedding: [int], top_n: int = 3) -> list[str]:\n",
      "        \"\"\"Return the nearest chunks to the given embedding with the dot product similarity\"\"\"\n",
      "        # Calculate dot product similarity for each stored embedding\n",
      "        similarities = []\n",
      "        for i, stored_embedding in enumera...\n"
     ]
    }
   ],
   "source": [
    "from ex3_vector_db import MiniVectorDB\n",
    "from pathlib import Path\n",
    "\n",
    "guide_path = Path(\"ai-engineer-evaluation-test.md\")\n",
    "assert guide_path.exists(), \"Place the official guide at ai-engineer-evaluation-test.md\"\n",
    "vdb = MiniVectorDB(client)\n",
    "vdb.load_document_from_path(guide_path)\n",
    "print(\"Num embeddings:\", len(vdb.embeddings))\n",
    "print(\"Top chunk for query:\")\n",
    "print(vdb.nearest_chunks(\"Darle funcionalidad a la base de datos\")[0][:400] + \"...\")"
   ]
  },
  {
   "cell_type": "markdown",
   "id": "86c55fac",
   "metadata": {},
   "source": [
    "## Exercise 4 — RAG Chatbot"
   ]
  },
  {
   "cell_type": "code",
   "execution_count": 5,
   "id": "2952804c",
   "metadata": {},
   "outputs": [
    {
     "name": "stdout",
     "output_type": "stream",
     "text": [
      "Los modelos disponibles para el uso en el ejercicio son:\n",
      "\n",
      "1. `text-embedding-3-small` - Uso: Embeddings, Coste: Muy bajo\n",
      "2. `gpt-4o-mini` - Uso: Chat, Coste: Bajo\n",
      "3. `gpt-4o-nano` - Uso: Chat, Coste: Muy bajo\n"
     ]
    }
   ],
   "source": [
    "SYSTEM_PROMPT = (\n",
    "    \"Eres un asistente que responde SÓLO con información presente en los fragmentos de contexto. \"\n",
    "    \"Si la respuesta no está en el contexto, responde 'No aparece en la guía'. \"\n",
    "    \"Responde en español de forma breve y precisa.\"\n",
    ")\n",
    "\n",
    "question = \"¿Qué modelos hay disponibles para el uso en el ejercicio?\"\n",
    "chunks = vdb.nearest_chunks(question, top_n=3)\n",
    "context = \"\\n\\n---\\n\\n\".join(chunks)\n",
    "\n",
    "messages = [\n",
    "    {\"role\": \"system\", \"content\": SYSTEM_PROMPT},\n",
    "    {\"role\": \"user\", \"content\": f\"Pregunta: {question}\\n\\nContexto:\\n{context}\"}\n",
    "]\n",
    "resp = client.chat.completions.create(\n",
    "    model=\"openai/gpt-4o-mini\",\n",
    "    messages=messages,\n",
    "    temperature=0.0\n",
    ")\n",
    "print(resp.choices[0].message.content.strip())"
   ]
  }
 ],
 "metadata": {
  "kernelspec": {
   "display_name": "Python 3",
   "language": "python",
   "name": "python3"
  },
  "language_info": {
   "codemirror_mode": {
    "name": "ipython",
    "version": 3
   },
   "file_extension": ".py",
   "mimetype": "text/x-python",
   "name": "python",
   "nbconvert_exporter": "python",
   "pygments_lexer": "ipython3",
   "version": "3.12.4"
  }
 },
 "nbformat": 4,
 "nbformat_minor": 5
}
